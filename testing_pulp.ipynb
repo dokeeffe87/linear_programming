{
 "cells": [
  {
   "cell_type": "markdown",
   "metadata": {},
   "source": [
    "## Testing out the PuLP linear programming package.  We'll work through some examples. Ultimately, I want to compare this to ORTools."
   ]
  },
  {
   "cell_type": "code",
   "execution_count": 1,
   "metadata": {},
   "outputs": [],
   "source": [
    "# Import modules\n",
    "\n",
    "from __future__ import division\n",
    "\n",
    "import os\n",
    "import sys\n",
    "import numpy as np\n",
    "import pandas as pd\n",
    "import matplotlib.pyplot as plt\n",
    "%matplotlib inline\n",
    "import seaborn as sns\n",
    "\n",
    "from tqdm import tqdm\n",
    "from pulp import *"
   ]
  },
  {
   "cell_type": "markdown",
   "metadata": {},
   "source": [
    "## The \"miracle worker problem\"\n",
    "* A 'miracle' worker is trying to optimize the production of two medicines.  \n",
    "* To create one unit of medicine 1, you need 3 units of herb A and 2 units of herb B.\n",
    "* To create one unit of medicine 2, you need 4 units of herb A and 1 unit of herb B.\n",
    "* Medicine 1 can heal a person by 25 units of health.\n",
    "* Medicine 2 can heal a person by 20 units of health.\n",
    "* You have 25 units of herb A and 10 units of herb B.\n",
    "* What quantity of medicines 1 and 2 should you make to maximize how much you can heal the next patient?"
   ]
  },
  {
   "cell_type": "code",
   "execution_count": 2,
   "metadata": {},
   "outputs": [],
   "source": [
    "# Create the 'prob' variable.  This will contain the problem data and definition.\n",
    "prob = LpProblem(\"The mircale worker\", LpMaximize)"
   ]
  },
  {
   "cell_type": "code",
   "execution_count": 4,
   "metadata": {},
   "outputs": [],
   "source": [
    "# Define the variables.  The units of medicine 1 produced will be variable x, and the units of medicine 2 produced with be variable y.\n",
    "# The variables here are going to be integers (so the output, which is the last argument below, is an interger type).\n",
    "# The second argument is the lower bound (can't have negative amounts of medicine).\n",
    "# The third argument is the upper bound (which could be anything here really).\n",
    "x = LpVariable(\"medicine_1_units\", 0, None, LpInteger)\n",
    "y = LpVariable('medicine_2_units', 0, None, LpInteger)"
   ]
  },
  {
   "cell_type": "code",
   "execution_count": 6,
   "metadata": {},
   "outputs": [],
   "source": [
    "# Define the objective function.  We want to maximize the amount we can heal, so per the problem definition it must be 25*x + 20*y = health restored.\n",
    "# We define this by adding it to prob\n",
    "prob += 25*x + 20*y, \"health restored; to be maximized\""
   ]
  },
  {
   "cell_type": "code",
   "execution_count": 7,
   "metadata": {},
   "outputs": [],
   "source": [
    "# Add the supply constraints for the herbs needed to make the medicines.\n",
    "# If we produce x of medicine 1 and y of medicine 2, we need 3 units of herb A to make medicine 1 and 4 units of herb B to make medicine 2. So we use 3*x + 4*y units of herb A.\n",
    "# Similarly, we use 2*x + y units of herb B.\n",
    "# We have 25 units of herb A and 10 units of herb B in supply, so the constraints on supply are:\n",
    "prob += 3*x + 4*y <= 25, \"Herb A constraint\"\n",
    "prob += 2*x + y <= 10, \"Herb B constraint\""
   ]
  },
  {
   "cell_type": "code",
   "execution_count": 8,
   "metadata": {},
   "outputs": [],
   "source": [
    "# We can write out the problem with definitions to a .lp file. This was we can reload and solve the problem without having to redefine everything.\n",
    "prob.writeLP(\"miracle_worker.lp\")"
   ]
  },
  {
   "cell_type": "code",
   "execution_count": 9,
   "metadata": {},
   "outputs": [
    {
     "data": {
      "text/plain": [
       "1"
      ]
     },
     "execution_count": 9,
     "metadata": {},
     "output_type": "execute_result"
    }
   ],
   "source": [
    "# Run the solver (using the PuLP default)\n",
    "prob.solve()"
   ]
  },
  {
   "cell_type": "code",
   "execution_count": 10,
   "metadata": {},
   "outputs": [
    {
     "name": "stdout",
     "output_type": "stream",
     "text": [
      "Status: Optimal\n"
     ]
    }
   ],
   "source": [
    "# Get the solver status\n",
    "print(\"Status: {0}\".format(LpStatus[prob.status]))"
   ]
  },
  {
   "cell_type": "code",
   "execution_count": 12,
   "metadata": {},
   "outputs": [
    {
     "name": "stdout",
     "output_type": "stream",
     "text": [
      "medicine_1_units = 3.0\n",
      "medicine_2_units = 4.0\n"
     ]
    }
   ],
   "source": [
    "# So we've got the optimal solution.\n",
    "# We can get back each variable with its optimal value\n",
    "for v in prob.variables():\n",
    "    print(\"{0} = {1}\".format(v.name, v.varValue))"
   ]
  },
  {
   "cell_type": "code",
   "execution_count": 13,
   "metadata": {},
   "outputs": [
    {
     "name": "stdout",
     "output_type": "stream",
     "text": [
      "Total health that can be restored = 155.0\n"
     ]
    }
   ],
   "source": [
    "# So the best course of action is to produce 3 units of medicine 1 and 4 units of medicine 2.\n",
    "# The maximum amount of health that can be restored (from producing the above amount of medicines 1 and 2) is:\n",
    "print('Total health that can be restored = {0}'.format(value(prob.objective)))"
   ]
  },
  {
   "cell_type": "markdown",
   "metadata": {},
   "source": [
    "## A blending problem\n",
    "* The problem statement: We want to produce cat food as cheaply as possible, while ensuring we meet a suitable standard for nutrition.\n",
    "* Data: The main ingredients are chicken, beef, mutton, rice, wheat, gel.\n",
    "    * The cost for each ingredient per gram is:\n",
    "        * Chicken: $0.010\n",
    "        \n",
    "        * Beef: $0.008\n",
    "        \n",
    "        * Mutton: $0.010\n",
    "        \n",
    "        * Rice: $0.002\n",
    "        \n",
    "        * Wheat: $0.005\n",
    "        \n",
    "        * Gel: $0.001\n",
    "    * The contributions per gram for each ingredients towards nutrition are:\n",
    "        * Chicken:\n",
    "            * Protein: 0.100\n",
    "            * Fat: 0.080\n",
    "            * Fiber: 0.001\n",
    "            * Salt: 0.002\n",
    "        * Beef:\n",
    "            * Protein: 0.200\n",
    "            * Fat: 0.100\n",
    "            * Fiber: 0.005\n",
    "            * Salt: 0.005\n",
    "        * Mutton:\n",
    "            * Protein: 0.150\n",
    "            * Fat: 0.110\n",
    "            * Fiber: 0.003\n",
    "            * Salt: 0.007\n",
    "        * Rice:\n",
    "            * Protein: 0.000\n",
    "            * Fat: 0.010\n",
    "            * Fiber: 0.100\n",
    "            * Salt: 0.002\n",
    "        * Wheat bran:\n",
    "            * Protein: 0.040\n",
    "            * Fat: 0.010\n",
    "            * Fiber: 0.150\n",
    "            * Salt: 0.008\n",
    "        * Gel:\n",
    "            * Protein: 0.000\n",
    "            * Fat: 0.000\n",
    "            * Fiber: 0.000\n",
    "            * Salt: 0.000\n",
    "            \n",
    "    * The total amount of material per can of cat food is 100 grams.\n",
    "    \n",
    "    * The nutritional requirements per can of cat food (i.e. per 100g) are:\n",
    "        * Protein: at least 8g\n",
    "        * Fat: at least 6g\n",
    "        * Fiber: no more than 2g\n",
    "        * Salt: no more than 0.4g"
   ]
  },
  {
   "cell_type": "markdown",
   "metadata": {},
   "source": [
    "## Model the problem:\n",
    "* Identify the variables. These are the percentages of the different ingredients we include in the can.  Since each can is 100g, the variables can be expressed as the amount of each ingredient in grams.  \n",
    "    * x_1 = percentage of chicken in a can of cat food.\n",
    "    * x_2 = percentage of beef in a can of cat food.\n",
    "    * x_3 = percentage of mutton in a can of cat food.\n",
    "    * x_4 = percentage of rice in a can of cat food.\n",
    "    * x_5 = percentage of wheat in a can of cat food.\n",
    "    * x_6 = percentage of gel in a can of cat food.\n",
    "\n",
    "* Each of these variables is a percentage, and so are restricted to be between 0 and 100.\n",
    "\n",
    "* The objective is to minimize the cost per can of cat food.  Since the can is 100 grams, the cost is just the x_i variables times the cost per gram. Otherwise, if each can was n grams, we would compute (x_i/100) * n * cost_per_gram_x_i.  The objective is then:\n",
    "    * min(0.013*x_1 + 0.008*x_2 + 0.010*x_3 + 0.002*x_4 + 0.005*x_5 + 0.001*x_6)\n",
    "    \n",
    "* The constraints:\n",
    "    * The sum of the percentages must add up to 100:\n",
    "        * x_1 + x_2 + x_3 + x_4 + x_5 + x_6 = 100\n",
    "    * The nutritional requirements are expressed as:\n",
    "        * 0.100*x_1 + 0.200*x_2 + 0.150*x_3 + 0.000*x_4 + 0.040*x_5 + 0.0*x_6 >= 8.0\n",
    "        * 0.080*x_1 + 0.100*x_2 + 0.110*x_3 + 0.010*x_4 + 0.010*x_5 + 0.0*x_6 >= 6.0\n",
    "        * 0.001*x_1 + 0.005*x_2 + 0.003*x_3 + 0.100*x_4 + 0.150*x_5 + 0.0*x_6 <= 2.0\n",
    "        * 0.002*x_1 + 0.005*x_2 + 0.007*x_3 + 0.002*x_4 + 0.008*x_5 + 0.0*x_6 <= 0.4"
   ]
  },
  {
   "cell_type": "code",
   "execution_count": 15,
   "metadata": {},
   "outputs": [],
   "source": [
    "# Build a dataframe with all of the relevant data.\n",
    "data_dict = {'CHICKEN': {'cost_per_gram': 0.013, 'protein_per_gram': 0.100, 'fat_per_gram': 0.080, 'fiber_per_gram': 0.001, 'salt_per_gram': 0.002}, \n",
    "             'BEEF': {'cost_per_gram': 0.008, 'protein_per_gram': 0.200, 'fat_per_gram': 0.100, 'fiber_per_gram': 0.005, 'salt_per_gram': 0.005},\n",
    "             'MUTTON': {'cost_per_gram': 0.010, 'protein_per_gram': 0.150, 'fat_per_gram': 0.110, 'fiber_per_gram': 0.003, 'salt_per_gram': 0.007},\n",
    "             'RICE': {'cost_per_gram': 0.002, 'protein_per_gram': 0.000, 'fat_per_gram': 0.010, 'fiber_per_gram': 0.100, 'salt_per_gram': 0.002},\n",
    "             'WHEAT': {'cost_per_gram': 0.005, 'protein_per_gram': 0.040, 'fat_per_gram': 0.010, 'fiber_per_gram': 0.150, 'salt_per_gram': 0.008},\n",
    "             'GEL': {'cost_per_gram': 0.001, 'protein_per_gram': 0.000, 'fat_per_gram': 0.000, 'fiber_per_gram': 0.000, 'salt_per_gram': 0.000}}"
   ]
  },
  {
   "cell_type": "code",
   "execution_count": 18,
   "metadata": {},
   "outputs": [],
   "source": [
    "data_df = pd.DataFrame.from_dict(data_dict, orient='index')"
   ]
  },
  {
   "cell_type": "code",
   "execution_count": 19,
   "metadata": {},
   "outputs": [
    {
     "data": {
      "text/html": [
       "<div>\n",
       "<style scoped>\n",
       "    .dataframe tbody tr th:only-of-type {\n",
       "        vertical-align: middle;\n",
       "    }\n",
       "\n",
       "    .dataframe tbody tr th {\n",
       "        vertical-align: top;\n",
       "    }\n",
       "\n",
       "    .dataframe thead th {\n",
       "        text-align: right;\n",
       "    }\n",
       "</style>\n",
       "<table border=\"1\" class=\"dataframe\">\n",
       "  <thead>\n",
       "    <tr style=\"text-align: right;\">\n",
       "      <th></th>\n",
       "      <th>protein_per_gram</th>\n",
       "      <th>fiber_per_gram</th>\n",
       "      <th>salt_per_gram</th>\n",
       "      <th>fat_per_gram</th>\n",
       "      <th>cost_per_gram</th>\n",
       "    </tr>\n",
       "  </thead>\n",
       "  <tbody>\n",
       "    <tr>\n",
       "      <th>BEEF</th>\n",
       "      <td>0.20</td>\n",
       "      <td>0.005</td>\n",
       "      <td>0.005</td>\n",
       "      <td>0.10</td>\n",
       "      <td>0.008</td>\n",
       "    </tr>\n",
       "    <tr>\n",
       "      <th>CHICKEN</th>\n",
       "      <td>0.10</td>\n",
       "      <td>0.001</td>\n",
       "      <td>0.002</td>\n",
       "      <td>0.08</td>\n",
       "      <td>0.013</td>\n",
       "    </tr>\n",
       "    <tr>\n",
       "      <th>GEL</th>\n",
       "      <td>0.00</td>\n",
       "      <td>0.000</td>\n",
       "      <td>0.000</td>\n",
       "      <td>0.00</td>\n",
       "      <td>0.001</td>\n",
       "    </tr>\n",
       "    <tr>\n",
       "      <th>MUTTON</th>\n",
       "      <td>0.15</td>\n",
       "      <td>0.003</td>\n",
       "      <td>0.007</td>\n",
       "      <td>0.11</td>\n",
       "      <td>0.010</td>\n",
       "    </tr>\n",
       "    <tr>\n",
       "      <th>RICE</th>\n",
       "      <td>0.00</td>\n",
       "      <td>0.100</td>\n",
       "      <td>0.002</td>\n",
       "      <td>0.01</td>\n",
       "      <td>0.002</td>\n",
       "    </tr>\n",
       "    <tr>\n",
       "      <th>WHEAT</th>\n",
       "      <td>0.04</td>\n",
       "      <td>0.150</td>\n",
       "      <td>0.008</td>\n",
       "      <td>0.01</td>\n",
       "      <td>0.005</td>\n",
       "    </tr>\n",
       "  </tbody>\n",
       "</table>\n",
       "</div>"
      ],
      "text/plain": [
       "         protein_per_gram  fiber_per_gram  salt_per_gram  fat_per_gram  \\\n",
       "BEEF                 0.20           0.005          0.005          0.10   \n",
       "CHICKEN              0.10           0.001          0.002          0.08   \n",
       "GEL                  0.00           0.000          0.000          0.00   \n",
       "MUTTON               0.15           0.003          0.007          0.11   \n",
       "RICE                 0.00           0.100          0.002          0.01   \n",
       "WHEAT                0.04           0.150          0.008          0.01   \n",
       "\n",
       "         cost_per_gram  \n",
       "BEEF             0.008  \n",
       "CHICKEN          0.013  \n",
       "GEL              0.001  \n",
       "MUTTON           0.010  \n",
       "RICE             0.002  \n",
       "WHEAT            0.005  "
      ]
     },
     "execution_count": 19,
     "metadata": {},
     "output_type": "execute_result"
    }
   ],
   "source": [
    "data_df"
   ]
  },
  {
   "cell_type": "code",
   "execution_count": 20,
   "metadata": {},
   "outputs": [],
   "source": [
    "# Define the problem variable. We want to minimize the cost objective here.\n",
    "prob = LpProblem(\"Cat food optimization\", LpMinimize)"
   ]
  },
  {
   "cell_type": "code",
   "execution_count": 23,
   "metadata": {},
   "outputs": [],
   "source": [
    "# Create a dictionary to contained the variables by name\n",
    "ingredient_vars = LpVariable.dicts(\"Ingr\", data_df.index.tolist(), 0)"
   ]
  },
  {
   "cell_type": "code",
   "execution_count": 26,
   "metadata": {},
   "outputs": [],
   "source": [
    "# The costs can then be added as constraints, since the indgredients dictionary has keys equal to the data_df indices:\n",
    "prob += lpSum([data_df['cost_per_gram'].to_dict()[i] * ingredient_vars[i] for i in data_df.index.tolist()]), \"Total cost of ingredients per can\""
   ]
  },
  {
   "cell_type": "code",
   "execution_count": 27,
   "metadata": {},
   "outputs": [],
   "source": [
    "# Add the five constraints to the problem definition.\n",
    "prob += lpSum([ingredient_vars[i] for i in data_df.index.tolist()]) == 100, \"Percentages sum\"\n",
    "prob += lpSum([data_df['protein_per_gram'].to_dict()[i] * ingredient_vars[i] for i in data_df.index.tolist()]) >= 8.0, \"Protein requirement\"\n",
    "prob += lpSum([data_df['fat_per_gram'].to_dict()[i] * ingredient_vars[i] for i in data_df.index.tolist()]) >= 6.0, \"Fat requirement\"\n",
    "prob += lpSum([data_df['fiber_per_gram'].to_dict()[i] * ingredient_vars[i] for i in data_df.index.tolist()]) <= 2.0, \"Fiber requirement\"\n",
    "prob += lpSum([data_df['salt_per_gram'].to_dict()[i] * ingredient_vars[i] for i in data_df.index.tolist()]) <= 0.4, \"salt requirement\""
   ]
  },
  {
   "cell_type": "code",
   "execution_count": 28,
   "metadata": {},
   "outputs": [],
   "source": [
    "# Write out the problem.\n",
    "prob.writeLP('CatFoodModel.lp')"
   ]
  },
  {
   "cell_type": "code",
   "execution_count": 29,
   "metadata": {},
   "outputs": [
    {
     "data": {
      "text/plain": [
       "1"
      ]
     },
     "execution_count": 29,
     "metadata": {},
     "output_type": "execute_result"
    }
   ],
   "source": [
    "# Solve the problem using default solver.\n",
    "prob.solve()"
   ]
  },
  {
   "cell_type": "code",
   "execution_count": 30,
   "metadata": {},
   "outputs": [
    {
     "name": "stdout",
     "output_type": "stream",
     "text": [
      "Status: Optimal\n"
     ]
    }
   ],
   "source": [
    "# Get the solution status\n",
    "print(\"Status: {0}\".format(LpStatus[prob.status]))"
   ]
  },
  {
   "cell_type": "code",
   "execution_count": 31,
   "metadata": {},
   "outputs": [
    {
     "name": "stdout",
     "output_type": "stream",
     "text": [
      "Ingr_BEEF = 60.0\n",
      "Ingr_CHICKEN = 0.0\n",
      "Ingr_GEL = 40.0\n",
      "Ingr_MUTTON = 0.0\n",
      "Ingr_RICE = 0.0\n",
      "Ingr_WHEAT = 0.0\n"
     ]
    }
   ],
   "source": [
    "# So we have an optimal solution.\n",
    "# Look at the optimal value of each variable.\n",
    "for v in prob.variables():\n",
    "    print(\"{0} = {1}\".format(v.name, v.varValue))"
   ]
  },
  {
   "cell_type": "code",
   "execution_count": 32,
   "metadata": {},
   "outputs": [
    {
     "name": "stdout",
     "output_type": "stream",
     "text": [
      "Total cost of ingredients per can: 0.52\n"
     ]
    }
   ],
   "source": [
    "# Interesting.  What is the cost per can?\n",
    "print('Total cost of ingredients per can: {0}'.format(value(prob.objective)))"
   ]
  },
  {
   "cell_type": "code",
   "execution_count": null,
   "metadata": {},
   "outputs": [],
   "source": [
    "# So it's 60% beed and 40% \"gel\"...sounds terrible.  "
   ]
  }
 ],
 "metadata": {
  "kernelspec": {
   "display_name": "Python [conda env:basic_ml]",
   "language": "python",
   "name": "conda-env-basic_ml-py"
  },
  "language_info": {
   "codemirror_mode": {
    "name": "ipython",
    "version": 2
   },
   "file_extension": ".py",
   "mimetype": "text/x-python",
   "name": "python",
   "nbconvert_exporter": "python",
   "pygments_lexer": "ipython2",
   "version": "2.7.14"
  }
 },
 "nbformat": 4,
 "nbformat_minor": 2
}
