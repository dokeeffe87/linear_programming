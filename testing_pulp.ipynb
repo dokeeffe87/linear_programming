{
 "cells": [
  {
   "cell_type": "markdown",
   "metadata": {},
   "source": [
    "## Testing out the PuLP linear programming package.  We'll work through some examples. Ultimately, I want to compare this to ORTools."
   ]
  },
  {
   "cell_type": "code",
   "execution_count": 1,
   "metadata": {},
   "outputs": [],
   "source": [
    "# Import modules\n",
    "\n",
    "from __future__ import division\n",
    "\n",
    "import os\n",
    "import sys\n",
    "import numpy as np\n",
    "import pandas as pd\n",
    "import matplotlib.pyplot as plt\n",
    "%matplotlib inline\n",
    "import seaborn as sns\n",
    "\n",
    "from tqdm import tqdm\n",
    "from pulp import *"
   ]
  },
  {
   "cell_type": "markdown",
   "metadata": {},
   "source": [
    "## The \"miracle worker problem\"\n",
    "* A 'miracle' worker is trying to optimize the production of two medicines.  \n",
    "* To create one unit of medicine 1, you need 3 units of herb A and 2 units of herb B.\n",
    "* To create one unit of medicine 2, you need 4 units of herb A and 1 unit of herb B.\n",
    "* Medicine 1 can heal a person by 25 units of health.\n",
    "* Medicine 2 can heal a person by 20 units of health.\n",
    "* You have 25 units of herb A and 10 units of herb B.\n",
    "* What quantity of medicines 1 and 2 should you make to maximize how much you can heal the next patient?"
   ]
  },
  {
   "cell_type": "code",
   "execution_count": 2,
   "metadata": {},
   "outputs": [],
   "source": [
    "# Create the 'prob' variable.  This will contain the problem data and definition.\n",
    "prob = LpProblem(\"The mircale worker\", LpMaximize)"
   ]
  },
  {
   "cell_type": "code",
   "execution_count": 4,
   "metadata": {},
   "outputs": [],
   "source": [
    "# Define the variables.  The units of medicine 1 produced will be variable x, and the units of medicine 2 produced with be variable y.\n",
    "# The variables here are going to be integers (so the output, which is the last argument below, is an interger type).\n",
    "# The second argument is the lower bound (can't have negative amounts of medicine).\n",
    "# The third argument is the upper bound (which could be anything here really).\n",
    "x = LpVariable(\"medicine_1_units\", 0, None, LpInteger)\n",
    "y = LpVariable('medicine_2_units', 0, None, LpInteger)"
   ]
  },
  {
   "cell_type": "code",
   "execution_count": 6,
   "metadata": {},
   "outputs": [],
   "source": [
    "# Define the objective function.  We want to maximize the amount we can heal, so per the problem definition it must be 25*x + 20*y = health restored.\n",
    "# We define this by adding it to prob\n",
    "prob += 25*x + 20*y, \"health restored; to be maximized\""
   ]
  },
  {
   "cell_type": "code",
   "execution_count": 7,
   "metadata": {},
   "outputs": [],
   "source": [
    "# Add the supply constraints for the herbs needed to make the medicines.\n",
    "# If we produce x of medicine 1 and y of medicine 2, we need 3 units of herb A to make medicine 1 and 4 units of herb B to make medicine 2. So we use 3*x + 4*y units of herb A.\n",
    "# Similarly, we use 2*x + y units of herb B.\n",
    "# We have 25 units of herb A and 10 units of herb B in supply, so the constraints on supply are:\n",
    "prob += 3*x + 4*y <= 25, \"Herb A constraint\"\n",
    "prob += 2*x + y <= 10, \"Herb B constraint\""
   ]
  },
  {
   "cell_type": "code",
   "execution_count": 8,
   "metadata": {},
   "outputs": [],
   "source": [
    "# We can write out the problem with definitions to a .lp file. This was we can reload and solve the problem without having to redefine everything.\n",
    "prob.writeLP(\"miracle_worker.lp\")"
   ]
  },
  {
   "cell_type": "code",
   "execution_count": 9,
   "metadata": {},
   "outputs": [
    {
     "data": {
      "text/plain": [
       "1"
      ]
     },
     "execution_count": 9,
     "metadata": {},
     "output_type": "execute_result"
    }
   ],
   "source": [
    "# Run the solver (using the PuLP default)\n",
    "prob.solve()"
   ]
  },
  {
   "cell_type": "code",
   "execution_count": 10,
   "metadata": {},
   "outputs": [
    {
     "name": "stdout",
     "output_type": "stream",
     "text": [
      "Status: Optimal\n"
     ]
    }
   ],
   "source": [
    "# Get the solver status\n",
    "print(\"Status: {0}\".format(LpStatus[prob.status]))"
   ]
  },
  {
   "cell_type": "code",
   "execution_count": 12,
   "metadata": {},
   "outputs": [
    {
     "name": "stdout",
     "output_type": "stream",
     "text": [
      "medicine_1_units = 3.0\n",
      "medicine_2_units = 4.0\n"
     ]
    }
   ],
   "source": [
    "# So we've got the optimal solution.\n",
    "# We can get back each variable with its optimal value\n",
    "for v in prob.variables():\n",
    "    print(\"{0} = {1}\".format(v.name, v.varValue))"
   ]
  },
  {
   "cell_type": "code",
   "execution_count": 13,
   "metadata": {},
   "outputs": [
    {
     "name": "stdout",
     "output_type": "stream",
     "text": [
      "Total health that can be restored = 155.0\n"
     ]
    }
   ],
   "source": [
    "# So the best course of action is to produce 3 units of medicine 1 and 4 units of medicine 2.\n",
    "# The maximum amount of health that can be restored (from producing the above amount of medicines 1 and 2) is:\n",
    "print('Total health that can be restored = {0}'.format(value(prob.objective)))"
   ]
  },
  {
   "cell_type": "code",
   "execution_count": null,
   "metadata": {},
   "outputs": [],
   "source": []
  }
 ],
 "metadata": {
  "kernelspec": {
   "display_name": "Python [conda env:basic_ml]",
   "language": "python",
   "name": "conda-env-basic_ml-py"
  },
  "language_info": {
   "codemirror_mode": {
    "name": "ipython",
    "version": 2
   },
   "file_extension": ".py",
   "mimetype": "text/x-python",
   "name": "python",
   "nbconvert_exporter": "python",
   "pygments_lexer": "ipython2",
   "version": "2.7.14"
  }
 },
 "nbformat": 4,
 "nbformat_minor": 2
}
